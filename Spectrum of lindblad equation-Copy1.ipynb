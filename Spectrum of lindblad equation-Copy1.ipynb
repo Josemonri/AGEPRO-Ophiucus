{
 "cells": [
  {
   "cell_type": "markdown",
   "id": "5928b545-c1ec-4dc8-bd85-d79be0694ab8",
   "metadata": {},
   "source": [
    "# Third quantization"
   ]
  },
  {
   "cell_type": "markdown",
   "id": "95a6202c-c916-48e9-af92-473cb30aa38b",
   "metadata": {},
   "source": [
    "## Single Fermion"
   ]
  },
  {
   "cell_type": "markdown",
   "id": "dcb7b3b3-e015-4f75-afcd-5cfd766c6541",
   "metadata": {},
   "source": [
    "Primero que todos, definimos nuestro hamiltoniano (H) y la matríz M que parametriza los operadores de Lindblad de la siguiente manera:\n",
    "\n",
    "$$ H= -ihw_1w_2 + cte$$\n",
    "$$ L_1=\\sqrt\\Gamma_1 c$$\n",
    "$$ L_2=\\sqrt\\Gamma_2 c^{\\dagger}$$"
   ]
  },
  {
   "cell_type": "code",
   "execution_count": 1,
   "id": "82db7b30-c98f-462c-a207-e06930fdf145",
   "metadata": {},
   "outputs": [],
   "source": [
    "import sympy as sp\n",
    "import numpy as np\n",
    "\n",
    "gamma_mas= sp.Symbol(\"\\Gamma_+\", real=True)\n",
    "gamma_menos= sp.Symbol(\"\\Gamma_-\", real=True)\n",
    "h= sp.Symbol(\"h\", real=True)\n",
    "\n",
    "M11= gamma_mas/4\n",
    "M12= -1j*gamma_menos/4\n",
    "M21= 1j*gamma_menos/4\n",
    "M22= gamma_mas/4\n",
    "\n",
    "#Construimos M\n",
    "M= sp.Matrix([[M11,M12],[M21,M22]])\n",
    "\n",
    "#Construimos Hamiltoniano\n",
    "H11= 0\n",
    "H12= -1j*h/2\n",
    "H21= 1j*h/2\n",
    "H22= 0\n",
    "\n",
    "H= sp.Matrix([[H11,H12],[H21,H22]])"
   ]
  },
  {
   "cell_type": "code",
   "execution_count": 2,
   "id": "a31234af-45bc-41ef-8420-6324490d292c",
   "metadata": {},
   "outputs": [
    {
     "data": {
      "text/latex": [
       "$\\displaystyle \\left[\\begin{matrix}0 & - 0.5 i h\\\\0.5 i h & 0\\end{matrix}\\right]$"
      ],
      "text/plain": [
       "Matrix([\n",
       "[      0, -0.5*I*h],\n",
       "[0.5*I*h,        0]])"
      ]
     },
     "execution_count": 2,
     "metadata": {},
     "output_type": "execute_result"
    }
   ],
   "source": [
    "H"
   ]
  },
  {
   "cell_type": "code",
   "execution_count": 3,
   "id": "ea44af25-1549-4086-8629-17c7ca2127fa",
   "metadata": {},
   "outputs": [
    {
     "data": {
      "text/latex": [
       "$\\displaystyle \\left[\\begin{matrix}\\frac{\\Gamma_{+}}{4} & - 0.25 i \\Gamma_{-}\\\\0.25 i \\Gamma_{-} & \\frac{\\Gamma_{+}}{4}\\end{matrix}\\right]$"
      ],
      "text/plain": [
       "Matrix([\n",
       "[     \\Gamma_+/4, -0.25*I*\\Gamma_-],\n",
       "[0.25*I*\\Gamma_-,       \\Gamma_+/4]])"
      ]
     },
     "execution_count": 3,
     "metadata": {},
     "output_type": "execute_result"
    }
   ],
   "source": [
    "M"
   ]
  },
  {
   "cell_type": "markdown",
   "id": "d075c28b-604f-40a4-9799-63bb1f8c289f",
   "metadata": {},
   "source": [
    "### Espectro de autovalores"
   ]
  },
  {
   "cell_type": "markdown",
   "id": "77cc592b-5edd-4665-841d-40d52673b5d4",
   "metadata": {},
   "source": [
    "Una vez definido el hamiltoniano y la matríz M, debemos crear la matríz de estructura A, además podemos obtener $X$, la cual al diagonalizarla, nos entregará las rapidities ($\\beta_j$)\n",
    "\n",
    "\n",
    "$$ A= \\begin{bmatrix}\n",
    "-2iH + 2iM_i & 2iM \\\\\n",
    "-2iM^T & -2iH-2iM_i \n",
    "\\end{bmatrix}  $$\n",
    "\n",
    "$$X = -2iH+2M_r$$"
   ]
  },
  {
   "cell_type": "code",
   "execution_count": 4,
   "id": "891080c7-a9e0-420a-bffe-b65bc3ad4ce5",
   "metadata": {},
   "outputs": [],
   "source": [
    "#Definimos función que para un H y M dados, nos devuelve las rapidities.\n",
    "def rapidities(H,M):\n",
    "    Mr= (M + M.conjugate())/2\n",
    "    X= -2j*H + 2*Mr\n",
    "    eigenvects= sp.Matrix(X).eigenvects()\n",
    "    #Guardamos rapidities\n",
    "    rapidities=[]\n",
    "    for j in range(len(X[:,0])):\n",
    "        rapidities.append(eigenvects[j][0])\n",
    "    return rapidities\n",
    "betas=rapidities(H,M)"
   ]
  },
  {
   "cell_type": "code",
   "execution_count": 5,
   "id": "70529bbb-bd94-49f3-b20e-73ea44ec1480",
   "metadata": {},
   "outputs": [
    {
     "data": {
      "text/latex": [
       "$\\displaystyle 0.5 \\Gamma_{+} - i h$"
      ],
      "text/plain": [
       "0.5*\\Gamma_+ - I*h"
      ]
     },
     "execution_count": 5,
     "metadata": {},
     "output_type": "execute_result"
    }
   ],
   "source": [
    "betas[0]"
   ]
  },
  {
   "cell_type": "code",
   "execution_count": 6,
   "id": "5e6a9562-c74b-494c-a32a-de5000d5b67e",
   "metadata": {},
   "outputs": [
    {
     "data": {
      "text/latex": [
       "$\\displaystyle 0.5 \\Gamma_{+} + i h$"
      ],
      "text/plain": [
       "0.5*\\Gamma_+ + I*h"
      ]
     },
     "execution_count": 6,
     "metadata": {},
     "output_type": "execute_result"
    }
   ],
   "source": [
    "betas[1]"
   ]
  },
  {
   "cell_type": "markdown",
   "id": "368535b0-e4c2-4104-b255-2d4ddca0ac6f",
   "metadata": {},
   "source": [
    "Vemos entonces que se las rapidities del problema son:\n",
    "$$\\beta_{1,2} = \\frac{\\Gamma_+}{2} \\pm ih $$\n",
    "Además vemos que se cumple que: \n",
    "$$0 \\leqslant Re(\\beta_1) \\leqslant Re(\\beta_2)$$"
   ]
  },
  {
   "cell_type": "markdown",
   "id": "e213d0cc-a54e-4f67-ba41-f9761e9634db",
   "metadata": {},
   "source": [
    "Veamos ahora que llegamos a las mismas rapidities, obteniendo los autovalores de la matríz de estructura A."
   ]
  },
  {
   "cell_type": "code",
   "execution_count": 7,
   "id": "4567144f-7d7c-48bd-801d-08abeb4ce83c",
   "metadata": {},
   "outputs": [],
   "source": [
    "from sympy import (MatrixSymbol, BlockMatrix, symbols,\n",
    "    Identity, ZeroMatrix, block_collapse)\n",
    "\n",
    "#Primero que todo, vamos a definir una función que nos entregue el espectro de autovalores para un H y M dados\n",
    "def spectrum(H,M):\n",
    "    #Construction of the structure matrix\n",
    "    Mr= (M + M.conjugate())/2\n",
    "    Mi= (M - M.conjugate())/(2j)\n",
    "    A= BlockMatrix([[-2j*H+2j*Mi,2j*M],[-2j*M.transpose(),-2j*H-2j*Mi]])\n",
    "    ##eigenvalues and eigenvectors\n",
    "    A_matrix= sp.Matrix(A)\n",
    "    eigenvalues= A_matrix.eigenvals()\n",
    "    eigenvects= A_matrix.eigenvects()\n",
    "    \n",
    "    rapidities=[]\n",
    "    for j in range(len(H)):\n",
    "        rapidities.append(eigenvects[j][0])\n",
    "    \n",
    "    return rapidities\n",
    "rapidities_A=spectrum(H,M)"
   ]
  },
  {
   "cell_type": "code",
   "execution_count": 8,
   "id": "c4c35a63-1405-4336-bc51-34a6e192bafb",
   "metadata": {},
   "outputs": [],
   "source": [
    "Mr= (M + M.conjugate())/2\n",
    "Mi= (M - M.conjugate())/(2j)"
   ]
  },
  {
   "cell_type": "code",
   "execution_count": 9,
   "id": "d6c9c8f5-54a8-456e-967a-f468aee70551",
   "metadata": {},
   "outputs": [
    {
     "data": {
      "text/latex": [
       "$\\displaystyle - 0.5 \\Gamma_{+} - i h$"
      ],
      "text/plain": [
       "-0.5*\\Gamma_+ - I*h"
      ]
     },
     "execution_count": 9,
     "metadata": {},
     "output_type": "execute_result"
    }
   ],
   "source": [
    "rapidities_A[0]    ### -beta1"
   ]
  },
  {
   "cell_type": "code",
   "execution_count": 10,
   "id": "954caebd-b8bf-41a2-8ffe-62755836294d",
   "metadata": {},
   "outputs": [
    {
     "data": {
      "text/latex": [
       "$\\displaystyle - 0.5 \\Gamma_{+} + i h$"
      ],
      "text/plain": [
       "-0.5*\\Gamma_+ + I*h"
      ]
     },
     "execution_count": 10,
     "metadata": {},
     "output_type": "execute_result"
    }
   ],
   "source": [
    "rapidities_A[1]    ### -beta2"
   ]
  },
  {
   "cell_type": "code",
   "execution_count": 11,
   "id": "0f77eaf7-eb79-43f1-9cef-60e31b2f148b",
   "metadata": {},
   "outputs": [
    {
     "data": {
      "text/latex": [
       "$\\displaystyle 0.5 \\Gamma_{+} - i h$"
      ],
      "text/plain": [
       "0.5*\\Gamma_+ - I*h"
      ]
     },
     "execution_count": 11,
     "metadata": {},
     "output_type": "execute_result"
    }
   ],
   "source": [
    "rapidities_A[2]    ### beta2"
   ]
  },
  {
   "cell_type": "code",
   "execution_count": 12,
   "id": "ec73074f-612e-462d-af6a-13c20e161034",
   "metadata": {},
   "outputs": [
    {
     "data": {
      "text/latex": [
       "$\\displaystyle 0.5 \\Gamma_{+} + i h$"
      ],
      "text/plain": [
       "0.5*\\Gamma_+ + I*h"
      ]
     },
     "execution_count": 12,
     "metadata": {},
     "output_type": "execute_result"
    }
   ],
   "source": [
    "rapidities_A[3]    ### beta1"
   ]
  },
  {
   "cell_type": "markdown",
   "id": "ea220af0-18d0-4f0a-a7fe-882a27d48215",
   "metadata": {},
   "source": [
    "De este modo, vemos que los métodos son análogos, pues se obtienen las mismas rapidities. (Acá nos entregan $-\\beta$ tambien, por eso tenemos 4 autovalores)."
   ]
  },
  {
   "cell_type": "markdown",
   "id": "3ad91089-06bd-4e10-968f-1fd24d3e58f5",
   "metadata": {},
   "source": [
    "Ahora, vamos a ordenar las rapidities, y luego obtendremos los autovalores asociados."
   ]
  },
  {
   "cell_type": "code",
   "execution_count": 13,
   "id": "83c99bd4-e3e4-423e-83ef-90b3ff144667",
   "metadata": {},
   "outputs": [],
   "source": [
    "#definimos función para extraer la parte real\n",
    "def real(z):\n",
    "    return (z+z.conjugate())/2\n",
    "reales=[]\n",
    "for j in range(len(betas)):\n",
    "    reales.append(real(betas[j]))"
   ]
  },
  {
   "cell_type": "code",
   "execution_count": 14,
   "id": "77b93273-6fd6-4760-bd5f-72f7804dc9b6",
   "metadata": {},
   "outputs": [],
   "source": [
    "from sympy.abc import x\n",
    "from sympy.utilities.lambdify import implemented_function\n",
    "from sympy import lambdify\n",
    "f=lambdify(gamma_mas,reales,'numpy')\n",
    "real_list=f(1)   #Evaluemos gamma_mas en 1\n",
    "indices_ordenados = sorted(range(len(real_list)), key=lambda i: real_list[i])  #Nos devuelve el indice de los betas ordenados\n",
    "betas_sort=sp.zeros(1,len(betas))\n",
    "for i in range(len(reales)):\n",
    "    betas_sort[0,i]=betas[indices_ordenados[i]]"
   ]
  },
  {
   "cell_type": "markdown",
   "id": "465d4070-4c37-4b0b-8788-037b7d3a207d",
   "metadata": {},
   "source": [
    "Una vez que ya hemos ordenado los betas, podemos construir los valores propios con:\n",
    "\n",
    "$$ \\lambda_\\nu = -2\\sum^{2n}_{j=1}\\beta_j\\nu_j$$\n",
    "\n",
    "Donde $\\nu_j \\in {0,1}$ y $j \\in {1,2,......,2n}$. Dada esta construcción de los valores propios, vamos a representar cada valor propio por un número en binario. \n",
    "\n",
    "Ejemplo:   0110 = -2($\\beta_2$+$\\beta_3$)"
   ]
  },
  {
   "cell_type": "code",
   "execution_count": 15,
   "id": "82ebf287-9dce-448e-9e42-cd43d3535d48",
   "metadata": {},
   "outputs": [],
   "source": [
    "from itertools import product\n",
    "\n",
    "#Asi obtenemos los autovalores como\n",
    "autovalores=sp.zeros(1,2*len(betas))\n",
    "\n",
    "#Creamos combinaciones binarias\n",
    "combinaciones=list(product([0,1],repeat=len(betas)))\n",
    "\n",
    "\n",
    "for i in range(len(combinaciones)):\n",
    "    comb_actual=combinaciones[i]\n",
    "    autoval=0\n",
    "    for k in range(len(comb_actual)):\n",
    "        autoval+= comb_actual[k]*betas[k]\n",
    "        \n",
    "    autovalores[0,i]=-2*autoval\n",
    "    "
   ]
  },
  {
   "cell_type": "code",
   "execution_count": 16,
   "id": "166395e3-b450-42df-8ea5-80bd39c96501",
   "metadata": {},
   "outputs": [
    {
     "name": "stdout",
     "output_type": "stream",
     "text": [
      "Los autovalores son:\n"
     ]
    },
    {
     "data": {
      "text/latex": [
       "$\\displaystyle \\left[\\begin{matrix}0 & - 1.0 \\Gamma_{+} - 2 i h & - 1.0 \\Gamma_{+} + 2 i h & - 2.0 \\Gamma_{+}\\end{matrix}\\right]$"
      ],
      "text/plain": [
       "Matrix([[0, -1.0*\\Gamma_+ - 2*I*h, -1.0*\\Gamma_+ + 2*I*h, -2.0*\\Gamma_+]])"
      ]
     },
     "execution_count": 16,
     "metadata": {},
     "output_type": "execute_result"
    }
   ],
   "source": [
    "from sympy import symbols, Eq, pprint\n",
    "print('Los autovalores son:')\n",
    "autovalores"
   ]
  },
  {
   "cell_type": "code",
   "execution_count": 153,
   "id": "54b821e0-dcc4-4fff-8c87-d6eada73050e",
   "metadata": {},
   "outputs": [
    {
     "data": {
      "text/plain": [
       "69"
      ]
     },
     "execution_count": 153,
     "metadata": {},
     "output_type": "execute_result"
    }
   ],
   "source": [
    "x1"
   ]
  },
  {
   "cell_type": "code",
   "execution_count": 167,
   "id": "c907d448-c35b-490b-9e47-3a42b3fd99de",
   "metadata": {},
   "outputs": [
    {
     "data": {
      "image/png": "[encoded data removed]",
      "text/plain": [
       "<Figure size 640x480 with 1 Axes>"
      ]
     },
     "metadata": {},
     "output_type": "display_data"
    },
    {
     "data": {
      "image/png": "[encoded data removed]",
      "text/plain": [
       "<Figure size 640x480 with 1 Axes>"
      ]
     },
     "metadata": {},
     "output_type": "display_data"
    }
   ],
   "source": [
    "#Podemos mostrar las decoherencias haciendo el plot\n",
    "tiempo=np.linspace(0,10,100)\n",
    "amplitud=1\n",
    "gamma_plus=1\n",
    "h_np=1\n",
    "lambda1=-1*gamma_plus-2j*h_np\n",
    "lambda2=-1*gamma_plus+2j*h_np\n",
    "decoherence01=amplitud*np.exp(lambda1*tiempo)\n",
    "decoherence10=amplitud*np.exp(lambda2*tiempo)\n",
    "absolutos=abs(decoherence01)\n",
    "absolutos2=abs(decoherence10)\n",
    "x1=0\n",
    "x2=0\n",
    "for j in range(len(absolutos)):\n",
    "    if absolutos[j] < 1e-3:\n",
    "        x1= j\n",
    "        break\n",
    "for j in range(len(absolutos2)):\n",
    "    if absolutos[j] < 1e-3:\n",
    "        x2= j\n",
    "        break\n",
    "\n",
    "plt.plot(tiempo,decoherence01.real,'b')\n",
    "plt.plot(tiempo,decoherence01.imag,'r')\n",
    "plt.legend([r'$Re(\\rho_{01})$',r'$Im(\\rho_{01})$'])\n",
    "plt.title(r'Decoherencia de $\\rho_{01}$(t)' )\n",
    "plt.xlabel('Tiempo(s)')\n",
    "plt.ylabel(r'$\\rho_{01}$(t)')\n",
    "plt.axvline(x=tiempo[x1], color='black', linestyle='--', label='Línea Vertical en x=2')\n",
    "plt.text(8,0.3,r'$t_{dec}$ = ' +str(round(tiempo[x1],2)))\n",
    "plt.ylim(-0.6,1.2)\n",
    "plt.savefig('rho01' , dpi=300, bbox_inches='tight')\n",
    "\n",
    "plt.show()\n",
    "\n",
    "plt.plot(tiempo,decoherence10.real,'b')\n",
    "plt.plot(tiempo,decoherence10.imag,'r')\n",
    "plt.legend([r'$Re(\\rho_{10})$',r'$Im(\\rho_{10})$'])\n",
    "plt.title(r'Decoherencia de $\\rho_{10}$(t)' )\n",
    "plt.xlabel('Tiempo(s)')\n",
    "plt.ylabel(r'$\\rho_{10}$(t)')\n",
    "plt.text(8,0.3,r'$t_{dec}$ = ' +str(round(tiempo[x2],2)))\n",
    "# Agregar una línea vertical en x=2\n",
    "plt.axvline(x=tiempo[x2], color='black', linestyle='--', label='Línea Vertical en x=2')\n",
    "plt.ylim(-0.6,1.2)\n",
    "\n",
    "plt.savefig('rho10' , dpi=300, bbox_inches='tight')\n",
    "plt.show()"
   ]
  },
  {
   "cell_type": "markdown",
   "id": "3dcb694a-5c2c-4dd3-88b4-f77bf2500ddd",
   "metadata": {},
   "source": [
    "De esta forma, hemos obtenido exitosamente los autovalores del caso de un solo fermión."
   ]
  },
  {
   "cell_type": "markdown",
   "id": "2c835c2b-c984-452d-93ad-48599624ca54",
   "metadata": {},
   "source": [
    "### Observables físicos"
   ]
  },
  {
   "cell_type": "markdown",
   "id": "82bd44a6-c66c-44b0-88ed-919b9da863a5",
   "metadata": {},
   "source": [
    "Para obtener observables físicos, debemos obtener la matríz de correlación $C_{j,k} := tr( w_jw_k\\rho_{NESS})$, usando lo obtenido por Prosen en el 2010, se tiene que:\n",
    "\n",
    "$$ C_{j,k} = \\delta_{j,k} + 4iZ_{j,k}$$ \n",
    "\n",
    "Donde Z es la solución de la ecuación de Liapunov:\n",
    "\n",
    "$$ X^{T}Z + ZX = M_i$$"
   ]
  },
  {
   "cell_type": "code",
   "execution_count": 17,
   "id": "63519c48-1b9b-4799-ab2a-80a5b129b461",
   "metadata": {
    "tags": []
   },
   "outputs": [],
   "source": [
    "import numpy as np\n",
    "from scipy import linalg\n",
    "from sympy.abc import x\n",
    "from sympy.utilities.lambdify import implemented_function\n",
    "from sympy import lambdify\n",
    "Mi= (M - M.conjugate())/(2j)\n",
    "Mr= (M + M.conjugate())/2\n",
    "X= -2j*H + 2*Mr\n",
    "H_lamb=lambdify(h,H,'numpy')\n",
    "Mi_lamb=lambdify(gamma_menos,Mi,'numpy')\n",
    "Mr_lamb=lambdify(gamma_mas,Mr,'numpy')\n",
    "#Evaluamos Mi y X\n",
    "X_lamb=lambdify([gamma_mas,h],X,'numpy')\n",
    "gamas=11\n",
    "gamenos=12\n",
    "h_magg=4\n",
    "\n",
    "Z= linalg.solve_continuous_lyapunov(X_lamb(gamas,h_magg).T,Mi_lamb(gamenos))"
   ]
  },
  {
   "cell_type": "code",
   "execution_count": 18,
   "id": "c3a878d1-37a7-47a4-898f-97dd5b4f9d82",
   "metadata": {
    "tags": []
   },
   "outputs": [
    {
     "name": "stdout",
     "output_type": "stream",
     "text": [
      "Mi es:\n",
      "------------------------\n",
      "[[ 0. -3.]\n",
      " [ 3.  0.]]\n",
      "------------------------\n",
      "[[-2.22044605e-16 -3.00000000e+00]\n",
      " [ 3.00000000e+00  6.66133815e-16]]\n",
      "------------------------\n",
      "[[ 2.22044605e-16 -3.00000000e+00]\n",
      " [ 3.00000000e+00  2.22044605e-16]]\n"
     ]
    }
   ],
   "source": [
    "#Funciones utilizadas para comparar con lo obtenido\n",
    "def liapunov(g_mas,g_menos,h_mag):\n",
    "    liapunov1= np.matmul(X_lamb(g_mas,h_mag),Z) + np.matmul(Z,(X_lamb(g_mas,h_mag).T)) \n",
    "    return liapunov1\n",
    "\n",
    "def liapunov2(g_mas,g_menos,h_mag):\n",
    "    liapunov2= np.matmul((X_lamb(g_mas,h_mag).T),Z) + np.matmul(Z,X_lamb(g_mas,h_mag)) \n",
    "    return liapunov2\n",
    "\n",
    "print('Mi es:')\n",
    "print('------------------------')\n",
    "print(Mi_lamb(gamenos))\n",
    "print('------------------------')\n",
    "print(liapunov(gamas,gamenos,h_magg))\n",
    "print('------------------------')\n",
    "print(liapunov2(gamas,gamenos,h_magg))"
   ]
  },
  {
   "cell_type": "markdown",
   "id": "3efa5468-1290-4083-965c-b1527e2e94b6",
   "metadata": {},
   "source": [
    "Vemos entonces que efectivamente el solver utilizado, resuelve correctamente la ecuacion continua de liapunov. Teniendo Z, procedemos a construir la matríz de correlacion  $C_{j,k} := tr( w_jw_k\\rho_{NESS})$"
   ]
  },
  {
   "cell_type": "code",
   "execution_count": 19,
   "id": "3c0244f1-8209-4fdb-b8d8-dcc344ab77c6",
   "metadata": {},
   "outputs": [
    {
     "data": {
      "text/latex": [
       "$\\displaystyle \\left[\\begin{matrix}1 & - 1.09090909090909 i\\\\1.09090909090909 i & 1 + 1.11022302462516 \\cdot 10^{-16} i\\end{matrix}\\right]$"
      ],
      "text/plain": [
       "Matrix([\n",
       "[                 1,        -1.09090909090909*I],\n",
       "[1.09090909090909*I, 1 + 1.11022302462516e-16*I]])"
      ]
     },
     "execution_count": 19,
     "metadata": {},
     "output_type": "execute_result"
    }
   ],
   "source": [
    "#construimos matríz con sympy\n",
    "Z_sp=sp.Matrix(Z)\n",
    "C= sp.eye(len(betas)) + 4j*Z_sp\n",
    "C"
   ]
  },
  {
   "cell_type": "markdown",
   "id": "58c858f4-f9b1-495a-8770-94207e201776",
   "metadata": {},
   "source": [
    "Obtengamos de acá el número de ocupación promedio $<c^{\\dagger}c>$\n",
    "\n",
    "$$ <c^{\\dagger}c> = \\frac{1}{2} - \\frac{i}{2}<w_1w_2> $$"
   ]
  },
  {
   "cell_type": "code",
   "execution_count": 21,
   "id": "0edcf7de-39c1-4edf-81e9-a133142fd8c2",
   "metadata": {},
   "outputs": [
    {
     "data": {
      "text/latex": [
       "$\\displaystyle 1.04545454545455$"
      ],
      "text/plain": [
       "1.04545454545455"
      ]
     },
     "execution_count": 21,
     "metadata": {},
     "output_type": "execute_result"
    }
   ],
   "source": [
    "w1w2= C[1,0]\n",
    "\n",
    "num_ocup= 0.5 - 0.5*1j*w1w2\n",
    "\n",
    "num_ocup"
   ]
  },
  {
   "cell_type": "markdown",
   "id": "017d28ea-7b99-4552-8301-b8b9dec04ad6",
   "metadata": {},
   "source": [
    "Veamos si cumplen lo de Prosen(2008)."
   ]
  },
  {
   "cell_type": "code",
   "execution_count": 22,
   "id": "07d61c58-c83a-442f-b762-703b43195c31",
   "metadata": {},
   "outputs": [],
   "source": [
    "def num_prom(g_mas,g_menos):\n",
    "    gama2=(g_mas+g_menos)/2\n",
    "    gama1=(g_mas-g_menos)/2\n",
    "    razon= gama2/(gama1+gama2)\n",
    "    return razon\n",
    "\n",
    "def num_prosen(g_mas,g_menos,h_magg):\n",
    "    Z= linalg.solve_continuous_lyapunov(X_lamb(g_mas,h_magg).T,Mi_lamb(g_menos))\n",
    "    Z_sp=sp.Matrix(Z)\n",
    "    C= sp.eye(len(betas)) + 4j*Z_sp\n",
    "    w1w2= C[1,0]\n",
    "    num_ocup= 0.5 - 0.5*1j*w1w2\n",
    "    return np.array(num_ocup,dtype=float)\n",
    "\n",
    "def promedio(g_mas,g_menos):\n",
    "    g=(g_mas+g_menos)/g_mas\n",
    "    return 0.5*g\n"
   ]
  },
  {
   "cell_type": "code",
   "execution_count": 168,
   "id": "c94e2dae-5dc7-44e2-a224-fb45ba82bb38",
   "metadata": {},
   "outputs": [],
   "source": [
    "def num_prom(gama1,gama2):\n",
    "    #gama2=(g_mas+g_menos)/2\n",
    "    #gama1=(g_mas-g_menos)/2\n",
    "    razon= gama2/(gama1+gama2)\n",
    "    return razon\n",
    "\n",
    "def num_prosen(gama1,gama2,h_magg):\n",
    "    g_mas=gama2+gama1\n",
    "    g_menos=gama2-gama1\n",
    "    Z= linalg.solve_continuous_lyapunov(X_lamb(g_mas,h_magg).T,Mi_lamb(g_menos))\n",
    "    Z_sp=sp.Matrix(Z)\n",
    "    C= sp.eye(len(betas)) + 4j*Z_sp\n",
    "    w1w2= C[1,0]\n",
    "    num_ocup= 0.5 - 0.5*1j*w1w2\n",
    "    return np.array(num_ocup,dtype=float)"
   ]
  },
  {
   "cell_type": "code",
   "execution_count": null,
   "id": "b0dfb7e0-6dfb-412f-8b50-003341f964fe",
   "metadata": {},
   "outputs": [],
   "source": [
    "plot(x, y, color='green', marker='o', linestyle='dashed',\n",
    "...      linewidth=2, markersize=12)"
   ]
  },
  {
   "cell_type": "code",
   "execution_count": 173,
   "id": "98ae920e-4766-4d2d-8902-5c87691dc3b9",
   "metadata": {},
   "outputs": [
    {
     "data": {
      "image/png": "[encoded data removed]",
      "text/plain": [
       "<Figure size 640x480 with 1 Axes>"
      ]
     },
     "metadata": {},
     "output_type": "display_data"
    }
   ],
   "source": [
    "#Fijaremos gama1\n",
    "gama1=1\n",
    "h_magg=1\n",
    "gama2_array=np.linspace(0,10,100)\n",
    "\n",
    "num_prom_array=num_prom(gama1,gama2_array)\n",
    "num_prosen_array=np.zeros(len(gama2_array))\n",
    "\n",
    "for n in range(len(gama2_array)):\n",
    "    num_prosen_array[n]=num_prosen(gama1,gama2_array[n],h_magg)\n",
    "    \n",
    "import matplotlib.pyplot as plt\n",
    "plt.plot(gama2_array,num_prom_array,'c',linewidth=6)\n",
    "plt.plot(gama2_array,num_prosen_array,'black',linestyle='dashed',linewidth=3)\n",
    "plt.xlabel('$\\Gamma_2$')\n",
    "plt.ylabel('$<c^{\\dagger}c>$')\n",
    "plt.legend(['Analítico','Numérico'])\n",
    "plt.title('$\\Gamma_1$ fixed')\n",
    "#plt.grid()\n",
    "plt.savefig('analitico vs numerico gama+' , dpi=300, bbox_inches='tight')\n",
    "plt.show()"
   ]
  },
  {
   "cell_type": "code",
   "execution_count": 174,
   "id": "463532b6-ccdc-4265-b84e-b25a2397d72c",
   "metadata": {},
   "outputs": [
    {
     "data": {
      "image/png": "[encoded data removed]",
      "text/plain": [
       "<Figure size 640x480 with 1 Axes>"
      ]
     },
     "metadata": {},
     "output_type": "display_data"
    }
   ],
   "source": [
    "#Fijaremos g_menos\n",
    "gama2=1\n",
    "h_magg=1\n",
    "gama1_array=np.linspace(0.1,10,100)\n",
    "\n",
    "num_prom_array=num_prom(gama1_array,gama2)\n",
    "num_prosen_array=np.zeros(len(gama1_array))\n",
    "\n",
    "for n in range(len(gama1_array)):\n",
    "    num_prosen_array[n]=num_prosen(gama1_array[n],gama2,h_magg)\n",
    "    \n",
    "import matplotlib.pyplot as plt\n",
    "plt.plot(gama1_array,num_prom_array,'c',linewidth=6)\n",
    "plt.plot(gama1_array,num_prosen_array,'black',linestyle='dashed',linewidth=3)\n",
    "plt.xlabel('$\\Gamma_1$')\n",
    "plt.ylabel('$<c^{\\dagger}c>$')\n",
    "plt.legend(['Analítico','Numérico'])\n",
    "plt.title('$\\Gamma_2$ fixed')\n",
    "#plt.grid()\n",
    "plt.savefig('analitico vs numerico gama-' , dpi=300, bbox_inches='tight')\n",
    "plt.show()"
   ]
  },
  {
   "cell_type": "markdown",
   "id": "e148f3bc-cae4-49f2-9f03-a0b5413ff840",
   "metadata": {},
   "source": [
    "Con esto, se observa que efectivamente el resultado obtenido por medio de la matriz de correlación numéricamente, coincide con lo esperado analíticamente."
   ]
  }
 ],
 "metadata": {
  "kernelspec": {
   "display_name": "Python 3 (ipykernel)",
   "language": "python",
   "name": "python3"
  },
  "language_info": {
   "codemirror_mode": {
    "name": "ipython",
    "version": 3
   },
   "file_extension": ".py",
   "mimetype": "text/x-python",
   "name": "python",
   "nbconvert_exporter": "python",
   "pygments_lexer": "ipython3",
   "version": "3.8.3"
  }
 },
 "nbformat": 4,
 "nbformat_minor": 5
}
